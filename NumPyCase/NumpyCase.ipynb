{
 "cells": [
  {
   "cell_type": "code",
   "execution_count": null,
   "id": "5d0a3612",
   "metadata": {},
   "outputs": [],
   "source": [
    "import numpy as np\n",
    "#Broadcasting with Different Dimensions (row-wise)\n",
    "bc_a = np.array([[1, 2, 3], [4, 5, 6]]) #shape = (2,3) 2 rows 3 columns\n",
    "bc_b = np.array([10, 20, 30])  # shape = (3,) 1 row 3 columns\n",
    "result = bc_a + bc_b\n",
    "print(result)\n",
    "\n",
    "# Row-based z-normalization \n",
    "row_mean = bc_a.mean(axis=1, keepdims=True)  #tek satırlık bir vektör, normalizasyon için kullanılmaz.\n",
    "row_std = bc_a.std(axis=1, keepdims=True) \n",
    "row_std_safe = np.where(row_std == 0, 1, row_std)\n",
    "Z = (bc_a - row_mean) / row_std_safe\n",
    "print(Z)\n",
    "\n",
    "print(\"Original Data:\\n\",bc_a)\n",
    "print(\"Global Mean:\", bc_a.mean())\n",
    "print(\"Global Std:\", bc_a.std())\n",
    "\n",
    "print(\"Row Mean:\\n\" , row_mean)\n",
    "print(\"Row Std:\\n\" , row_std)\n",
    "print(\"Row Safe Std:\\n\" , row_std_safe)\n",
    "\n",
    "print(\"Normalized Result:\\n\", Z)\n",
    "print(\"Row means after normalization:\\n\", Z.mean(axis=1))\n",
    "print(\"Row stds after normalization:\\n\", Z.std(axis=1))\n",
    "\n",
    "summary = np.column_stack([row_mean.ravel(), row_std.ravel(), Z.mean(axis=1), Z.std(axis=1)])\n",
    "print(\"Rows: [B.N. Means, B.N. Stds, Aft.N. Means, Aft.N. Stds]\\n\", summary)\n",
    "# print(\"Rows: [Bef.N. Means, Bef.N. Stds, Aft. N. Means, Aft.N. Stds]\\n\", np.round(summary,6))\n"
   ]
  },
  {
   "cell_type": "markdown",
   "id": "1259baf3",
   "metadata": {},
   "source": [
    "# Bu çalışmada her satır, kendi ortalaması ve standart sapmasına göre z-normalizasyon işlemine tabi tutulmuştur. \n",
    "# Amaç, her satırın ortalamasını yaklaşık 0’a, standart sapmasını ise yaklaşık 1’e indirgemektir."
   ]
  },
  {
   "cell_type": "markdown",
   "id": "cb1090a6",
   "metadata": {},
   "source": [
    "## Önce / Sonra Karşılaştırma \n",
    "# Normalizasyon öncesinde satır ortalamaları ve standart sapmaları farklıydı (Bef_Means/Stds). \n",
    "# Broadcasting ile satır bazlı z-normalizasyon uygulandı: her satırdan kendi ortalaması çıkarılıp kendi std’sine bölündü. \n",
    "# İşlem sonrası her satırın ortalaması ≈ 0 ve std’si ≈ 1 oldu (Aft_Means/Stds). \n",
    "# Böylece tüm satırlar aynı ölçekte karşılaştırılabilir hale geldi."
   ]
  }
 ],
 "metadata": {
  "language_info": {
   "name": "python"
  }
 },
 "nbformat": 4,
 "nbformat_minor": 5
}
